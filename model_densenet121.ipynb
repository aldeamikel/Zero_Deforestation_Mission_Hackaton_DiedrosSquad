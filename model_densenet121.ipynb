{
  "metadata": {
    "colab": {
      "provenance": []
    },
    "kernelspec": {
      "name": "python",
      "display_name": "Python (Pyodide)",
      "language": "python"
    },
    "language_info": {
      "codemirror_mode": {
        "name": "python",
        "version": 3
      },
      "file_extension": ".py",
      "mimetype": "text/x-python",
      "name": "python",
      "nbconvert_exporter": "python",
      "pygments_lexer": "ipython3",
      "version": "3.8"
    },
    "accelerator": "GPU",
    "gpuClass": "standard"
  },
  "nbformat_minor": 4,
  "nbformat": 4,
  "cells": [
    {
      "cell_type": "code",
      "source": "import os\nimport pandas as pd\nimport numpy as np\nimport PIL\nimport matplotlib.pyplot as plt\nimport matplotlib.image as mpimg\nimport seaborn as sns\nfrom fastai.vision.all import *",
      "metadata": {
        "id": "CXNAhDFt_d-F"
      },
      "execution_count": null,
      "outputs": []
    },
    {
      "cell_type": "code",
      "source": "from google.colab import drive\ndrive.mount('/content/drive')",
      "metadata": {
        "id": "bg2he-jCA0Wy",
        "jupyter": {
          "source_hidden": true
        },
        "tags": []
      },
      "execution_count": null,
      "outputs": []
    },
    {
      "cell_type": "code",
      "source": "os.getcwd()\nos.chdir(\"./drive/MyDrive/Hackaton\")\nos.getcwd()",
      "metadata": {
        "id": "TMRwlnO6AHHL"
      },
      "execution_count": null,
      "outputs": []
    },
    {
      "cell_type": "code",
      "source": "train = pd.read_csv('train.csv')\ntest =pd.read_csv('test.csv')",
      "metadata": {
        "id": "cWCYEfaVASaH"
      },
      "execution_count": null,
      "outputs": []
    },
    {
      "cell_type": "code",
      "source": "#We divide our train data on train and validation into 80-20\nfrom random import shuffle\ntrain_val_0 = np.zeros(round(train.shape[0]*0.8))\ntrain_val_1 = np.ones(train.shape[0] - train_val_0.shape[0])\n\nis_val = np.concatenate((train_val_0,train_val_1)).astype('bool')",
      "metadata": {
        "id": "-Hve6nzeMwSY"
      },
      "execution_count": null,
      "outputs": []
    },
    {
      "cell_type": "code",
      "source": "df = pd.DataFrame([train[\"example_path\"], train[\"label\"]]).transpose()\ndf['is_val'] = is_val\ndf.sample(frac = 1)",
      "metadata": {
        "id": "Cjg_K1IvLatS"
      },
      "execution_count": null,
      "outputs": []
    },
    {
      "cell_type": "code",
      "source": "dls = ImageDataLoaders.from_df(df, valid_col = \"is_val\")\ndls.show_batch()",
      "metadata": {
        "id": "Yo3w-VldQoBY"
      },
      "execution_count": null,
      "outputs": []
    },
    {
      "cell_type": "code",
      "source": "learn = vision_learner(dls,densenet121 , metrics = F1Score(average = \"macro\"))\n\nepocs = 70\nlearn.fine_tune(epocs)",
      "metadata": {
        "id": "Vuade18XgXqh"
      },
      "execution_count": null,
      "outputs": []
    },
    {
      "cell_type": "code",
      "source": "learn.export('model_densenet121.pkl')",
      "metadata": {
        "id": "vZ9osTgjpTZJ"
      },
      "execution_count": null,
      "outputs": []
    },
    {
      "cell_type": "code",
      "source": "",
      "metadata": {
        "id": "Ss1P_PGqh9Ji"
      },
      "execution_count": null,
      "outputs": []
    }
  ]
}